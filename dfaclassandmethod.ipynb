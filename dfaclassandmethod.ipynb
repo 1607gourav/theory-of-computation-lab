{
 "cells": [
  {
   "cell_type": "code",
   "execution_count": 4,
   "metadata": {},
   "outputs": [],
   "source": [
    "#even a and b dfa using class"
   ]
  },
  {
   "cell_type": "code",
   "execution_count": 8,
   "metadata": {},
   "outputs": [],
   "source": [
    "dfa={0:{'a':1,'b':3},\n",
    "     1:{'a':0,'b':2},\n",
    "     2:{'a':3,'b':1},\n",
    "     3:{'a':2,'b':0}\n",
    "     }"
   ]
  },
  {
   "cell_type": "code",
   "execution_count": 9,
   "metadata": {},
   "outputs": [],
   "source": [
    "class EAB:\n",
    "    def __init__(self,dfa):\n",
    "        self.dfa=dfa\n",
    "        self.InitialState=0\n",
    "        self.FinalState={0}\n",
    "        self.CurrentState={}\n",
    "    def moves(self,string):\n",
    "        self.CurrentState=self.InitialState\n",
    "        for i in string:\n",
    "                self.CurrentState=dfa[self.CurrentState][i]\n",
    "        if self.CurrentState in self.FinalState:\n",
    "            return True\n",
    "        else:\n",
    "            return False\n",
    "        \n",
    "        "
   ]
  },
  {
   "cell_type": "code",
   "execution_count": 11,
   "metadata": {},
   "outputs": [],
   "source": [
    "o1=EAB(dfa)\n"
   ]
  },
  {
   "cell_type": "code",
   "execution_count": 12,
   "metadata": {},
   "outputs": [],
   "source": [
    "#SECOND WAY\n",
    "\n",
    "state={0,1}\n",
    "\n",
    "dfa=dict()\n",
    "dfa[(0,'a')]=1\n",
    "dfa[(0,'b')]=3\n",
    "dfa[(1,'a')]=0\n",
    "dfa[(1,'b')]=2\n",
    "dfa[(2,'a')]=3\n",
    "dfa[(2,'b')]=1\n",
    "dfa[(3,'a')]=2\n",
    "dfa[(3,'b')]=0\n",
    "\n",
    "\n",
    "\n",
    "\n"
   ]
  },
  {
   "cell_type": "code",
   "execution_count": 13,
   "metadata": {},
   "outputs": [],
   "source": [
    "InitialState=0\n",
    "FinalState={0}\n",
    "def function(string):\n",
    "    CurrentState=InitialState\n",
    "    for i in string:\n",
    "        CurrentState=dfa[(CurrentState),i]\n",
    "    if CurrentState in FinalState:\n",
    "        return True\n",
    "    else:\n",
    "        return False\n",
    "    \n",
    "    "
   ]
  },
  {
   "cell_type": "code",
   "execution_count": 14,
   "metadata": {},
   "outputs": [
    {
     "data": {
      "text/plain": [
       "True"
      ]
     },
     "execution_count": 14,
     "metadata": {},
     "output_type": "execute_result"
    }
   ],
   "source": [
    "#FALSE STRING\n",
    "function('aaaa')"
   ]
  },
  {
   "cell_type": "code",
   "execution_count": null,
   "metadata": {},
   "outputs": [],
   "source": []
  }
 ],
 "metadata": {
  "kernelspec": {
   "display_name": "Python 3",
   "language": "python",
   "name": "python3"
  },
  "language_info": {
   "codemirror_mode": {
    "name": "ipython",
    "version": 3
   },
   "file_extension": ".py",
   "mimetype": "text/x-python",
   "name": "python",
   "nbconvert_exporter": "python",
   "pygments_lexer": "ipython3",
   "version": "3.7.3"
  }
 },
 "nbformat": 4,
 "nbformat_minor": 4
}
