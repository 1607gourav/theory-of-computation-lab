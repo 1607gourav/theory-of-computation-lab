{
 "cells": [
  {
   "cell_type": "code",
   "execution_count": 19,
   "metadata": {},
   "outputs": [
    {
     "name": "stdin",
     "output_type": "stream",
     "text": [
      " aaabbb\n"
     ]
    },
    {
     "name": "stdout",
     "output_type": "stream",
     "text": [
      "accepted\n"
     ]
    }
   ],
   "source": [
    "#pda for a^nb^n\n",
    "s=input()\n",
    "s=[char for char in s] \n",
    "i=0\n",
    "z=[]\n",
    "while(s[i]=='a'):\n",
    "    z.append(s[i])\n",
    "    i=i+1\n",
    "while(s[i]=='b'):\n",
    "    if(len(z)!=0):\n",
    "        z.pop()\n",
    "    else:\n",
    "        z.append(s[i])\n",
    "        break\n",
    "    i=i+1\n",
    "    if(i==len(s)):\n",
    "        break\n",
    "if (len(z)==0):\n",
    "    print(\"accepted\")\n",
    "else: \n",
    "    print(\"not accepted\")\n",
    "    \n"
   ]
  },
  {
   "cell_type": "code",
   "execution_count": null,
   "metadata": {},
   "outputs": [],
   "source": [
    "# if no of a's = no of b's\n",
    "aaabbb\n",
    "accepted"
   ]
  },
  {
   "cell_type": "code",
   "execution_count": null,
   "metadata": {},
   "outputs": [],
   "source": [
    "# if no of a's > no of b's\n",
    "aaabb\n",
    "not accepted"
   ]
  },
  {
   "cell_type": "code",
   "execution_count": null,
   "metadata": {},
   "outputs": [],
   "source": [
    "# if no of a's < no of b's\n",
    "aaabbbb\n",
    "not accepted"
   ]
  },
  {
   "cell_type": "code",
   "execution_count": 3,
   "metadata": {},
   "outputs": [
    {
     "name": "stdin",
     "output_type": "stream",
     "text": [
      " aabbbccc\n"
     ]
    },
    {
     "name": "stdout",
     "output_type": "stream",
     "text": [
      "['b', 'b', 'b']\n",
      "accepted\n"
     ]
    }
   ],
   "source": [
    "#pda for a^mb^nc^n\n",
    "\n",
    "s=input()\n",
    "s=[char for char in s] \n",
    "i=0\n",
    "z=[]\n",
    "while(s[i]=='a'):\n",
    "    i=i+1\n",
    "while(s[i]=='b'):\n",
    "    z.append(s[i])\n",
    "    i=i+1\n",
    "\n",
    "while(s[i]=='c'):\n",
    "    if(len(z)!=0):\n",
    "        z.pop()\n",
    "    else:\n",
    "        z.append(s[i])\n",
    "        break\n",
    "    i=i+1\n",
    "    if(i==len(s)):\n",
    "        break\n",
    "if (len(z)==0):\n",
    "    print(\"accepted\")\n",
    "else: \n",
    "    print(\"not accepted\")\n",
    "    "
   ]
  },
  {
   "cell_type": "code",
   "execution_count": null,
   "metadata": {},
   "outputs": [],
   "source": [
    "# if no of b's = no of c's\n",
    "aaabbbccc\n",
    "accepted"
   ]
  },
  {
   "cell_type": "code",
   "execution_count": null,
   "metadata": {},
   "outputs": [],
   "source": [
    "# if no of b's > no of c's\n",
    "aaabbbcc\n",
    "not accepted"
   ]
  },
  {
   "cell_type": "code",
   "execution_count": null,
   "metadata": {},
   "outputs": [],
   "source": [
    "# if no of b's < no of c's\n",
    "aaabbbcccc\n",
    "not accepted"
   ]
  },
  {
   "cell_type": "code",
   "execution_count": 16,
   "metadata": {},
   "outputs": [
    {
     "name": "stdin",
     "output_type": "stream",
     "text": [
      " aabbcdd\n"
     ]
    },
    {
     "name": "stdout",
     "output_type": "stream",
     "text": [
      "not accepted\n"
     ]
    }
   ],
   "source": [
    "#pda for a^mb^nc^nd^m\n",
    "\n",
    "s=input()\n",
    "s=[char for char in s] \n",
    "i=0\n",
    "z=[]\n",
    "while(s[i]=='a'):\n",
    "    z.append(s[i])\n",
    "    i=i+1\n",
    "while(s[i]=='b'):\n",
    "    z.append(s[i])\n",
    "    i=i+1\n",
    "while(s[i]=='c'):\n",
    "    l=len(z)\n",
    "    if(s[l-1]=='b'):\n",
    "        z.pop()\n",
    "    else:\n",
    "        break\n",
    "    i=i+1\n",
    "while(s[i]=='d'):\n",
    "    l=len(z)\n",
    "    if(s[l-1]=='a'):\n",
    "        z.pop()\n",
    "    else:\n",
    "        z.append(s[i])\n",
    "        break\n",
    "    i=i+1\n",
    "    if(len(s)==i):\n",
    "        break\n",
    "if (len(z)==0):\n",
    "    print(\"accepted\")\n",
    "else: \n",
    "    print(\"not accepted\")"
   ]
  },
  {
   "cell_type": "code",
   "execution_count": null,
   "metadata": {},
   "outputs": [],
   "source": [
    "# if no of b's = no of c's and no of a's = no of d's\n",
    "aaabbbcccddd\n",
    "accepted"
   ]
  },
  {
   "cell_type": "code",
   "execution_count": null,
   "metadata": {},
   "outputs": [],
   "source": [
    "# if no of b's > no of c's\n",
    "aaabbbccddd\n",
    "not accepted"
   ]
  },
  {
   "cell_type": "code",
   "execution_count": null,
   "metadata": {},
   "outputs": [],
   "source": [
    "# if no of b's < no of c's\n",
    "aaabbbccccddd\n",
    "not accepted"
   ]
  },
  {
   "cell_type": "code",
   "execution_count": null,
   "metadata": {},
   "outputs": [],
   "source": [
    "# if no of a's > no of d's\n",
    "aaaabbbcccddd\n",
    "not accepted"
   ]
  },
  {
   "cell_type": "code",
   "execution_count": null,
   "metadata": {},
   "outputs": [],
   "source": [
    "# if no of b's < no of c's\n",
    "aaabbbcccc\n",
    "not accepted"
   ]
  }
 ],
 "metadata": {
  "kernelspec": {
   "display_name": "Python 3",
   "language": "python",
   "name": "python3"
  },
  "language_info": {
   "codemirror_mode": {
    "name": "ipython",
    "version": 3
   },
   "file_extension": ".py",
   "mimetype": "text/x-python",
   "name": "python",
   "nbconvert_exporter": "python",
   "pygments_lexer": "ipython3",
   "version": "3.7.3"
  }
 },
 "nbformat": 4,
 "nbformat_minor": 4
}
