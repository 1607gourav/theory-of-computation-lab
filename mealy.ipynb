{
 "cells": [
  {
   "cell_type": "code",
   "execution_count": 2,
   "metadata": {},
   "outputs": [],
   "source": [
    "#mealy even or odd way 1\n",
    "dfa=dict()\n",
    "dfa[(0,'0')]=(0,'even')\n",
    "dfa[(0,'1')]=(1,'odd')\n",
    "dfa[(1,'0')]=(1,'odd')\n",
    "dfa[(1,'1')]=(0,'even')\n"
   ]
  },
  {
   "cell_type": "code",
   "execution_count": 3,
   "metadata": {},
   "outputs": [],
   "source": [
    "class mealy:\n",
    "    def __init__(self,dfa):\n",
    "        self.current_state=0\n",
    "        self.current_state1=0\n",
    "    def moves(self,s):\n",
    "        for i in s:\n",
    "            self.current_state1=self.current_state\n",
    "            self.current_state=dfa[self.current_state,i][0]\n",
    "            print(self.current_state)\n",
    "            print(dfa[self.current_state1,i][1])"
   ]
  },
  {
   "cell_type": "code",
   "execution_count": 4,
   "metadata": {},
   "outputs": [
    {
     "name": "stdout",
     "output_type": "stream",
     "text": [
      "1\n",
      "odd\n",
      "1\n",
      "odd\n",
      "0\n",
      "even\n",
      "0\n",
      "even\n"
     ]
    }
   ],
   "source": [
    "ob=mealy(dfa)\n",
    "ob.moves(\"1010\")"
   ]
  },
  {
   "cell_type": "code",
   "execution_count": 5,
   "metadata": {},
   "outputs": [],
   "source": [
    "# mealy even or odd way 2\n",
    "dfa={0:{'0':(0,'even'),'1':(1,'odd')},1:{'0':(1,'odd'),'1':(0,'even')}}"
   ]
  },
  {
   "cell_type": "code",
   "execution_count": 6,
   "metadata": {},
   "outputs": [],
   "source": [
    "def mealy(s):\n",
    "  cs=0\n",
    "  cs1=0\n",
    "  for i in s:\n",
    "      cs1=cs\n",
    "      cs=dfa[cs][i][0]\n",
    "      print(cs)\n",
    "      o=dfa[cs1][i][1]\n",
    "      print(o)"
   ]
  },
  {
   "cell_type": "code",
   "execution_count": 7,
   "metadata": {},
   "outputs": [
    {
     "name": "stdout",
     "output_type": "stream",
     "text": [
      "1\n",
      "odd\n",
      "1\n",
      "odd\n",
      "0\n",
      "even\n",
      "0\n",
      "even\n",
      "0\n",
      "even\n"
     ]
    }
   ],
   "source": [
    "mealy(\"10100\")"
   ]
  },
  {
   "cell_type": "code",
   "execution_count": 8,
   "metadata": {},
   "outputs": [],
   "source": [
    "#mealy even or odd way 2\n",
    "dfa1={}\n",
    "dfa1[(0,'0')]=0\n",
    "dfa1[(0,'1')]=1\n",
    "dfa1[(1,'0')]=1\n",
    "dfa1[(1,'1')]=0\n",
    "dfa2={}\n",
    "dfa2[(0,'0')]='even'\n",
    "dfa2[(0,'1')]='odd'\n",
    "dfa2[(1,'0')]='odd'\n",
    "dfa2[(1,'1')]='even'"
   ]
  },
  {
   "cell_type": "code",
   "execution_count": 9,
   "metadata": {},
   "outputs": [],
   "source": [
    "class mealy:\n",
    "    def __init__(self,dfa1,dfa2):\n",
    "        self.current_state=0\n",
    "        self.current_state1=0\n",
    "    def moves(self,s):\n",
    "        for i in s:\n",
    "            self.current_state1=dfa1[self.current_state,i]\n",
    "            print(self.current_state1)\n",
    "            print(dfa2[self.current_state,i])\n",
    "            self.current_state=self.current_state1"
   ]
  },
  {
   "cell_type": "code",
   "execution_count": 10,
   "metadata": {},
   "outputs": [
    {
     "name": "stdout",
     "output_type": "stream",
     "text": [
      "1\n",
      "odd\n",
      "1\n",
      "odd\n",
      "0\n",
      "even\n",
      "0\n",
      "even\n",
      "1\n",
      "odd\n"
     ]
    }
   ],
   "source": [
    "ob=mealy(dfa1,dfa2)\n",
    "ob.moves(\"10101\")"
   ]
  },
  {
   "cell_type": "code",
   "execution_count": 12,
   "metadata": {},
   "outputs": [],
   "source": [
    "#mealy 1's compliment\n",
    "dfa=dict()\n",
    "dfa[(0,'0')]=(0,'1')\n",
    "dfa[(0,'1')]=(0,'0')"
   ]
  },
  {
   "cell_type": "code",
   "execution_count": 15,
   "metadata": {},
   "outputs": [],
   "source": [
    "class mealy:\n",
    "    def __init__(self):\n",
    "        self.cs=0\n",
    "    def moves(self,s):\n",
    "        for i in s:\n",
    "            self.cs=dfa[self.cs,i][0]\n",
    "            print(dfa[self.cs,i][1],end=\" \")"
   ]
  },
  {
   "cell_type": "code",
   "execution_count": 16,
   "metadata": {},
   "outputs": [
    {
     "name": "stdout",
     "output_type": "stream",
     "text": [
      "0 1 0 1 0 "
     ]
    }
   ],
   "source": [
    "ob=mealy()\n",
    "ob.moves(\"10101\")"
   ]
  },
  {
   "cell_type": "code",
   "execution_count": 17,
   "metadata": {},
   "outputs": [],
   "source": [
    "# mealy 2's compliment\n",
    "dfa=dict()\n",
    "dfa[(0,'0')]=(0,'0')\n",
    "dfa[(0,'1')]=(1,'1')\n",
    "dfa[(1,'0')]=(1,'1')\n",
    "dfa[(1,'1')]=(1,'0')"
   ]
  },
  {
   "cell_type": "code",
   "execution_count": 18,
   "metadata": {},
   "outputs": [],
   "source": [
    "class mealy:\n",
    "  def __init__(self,dfa):\n",
    "    self.cs=0\n",
    "  def moves(self,s):\n",
    "    s=s[::-1]\n",
    "    y=''\n",
    "    for i in s:\n",
    "        self.x=self.cs\n",
    "        self.cs=dfa[self.cs,i][0]\n",
    "        y=y+dfa[self.x,i][1]\n",
    "    print(y[::-1])"
   ]
  },
  {
   "cell_type": "code",
   "execution_count": 19,
   "metadata": {},
   "outputs": [
    {
     "name": "stdout",
     "output_type": "stream",
     "text": [
      "01011\n"
     ]
    }
   ],
   "source": [
    "ob=mealy(dfa)\n",
    "ob.moves(\"10101\")"
   ]
  },
  {
   "cell_type": "code",
   "execution_count": null,
   "metadata": {},
   "outputs": [],
   "source": []
  }
 ],
 "metadata": {
  "kernelspec": {
   "display_name": "Python 3",
   "language": "python",
   "name": "python3"
  },
  "language_info": {
   "codemirror_mode": {
    "name": "ipython",
    "version": 3
   },
   "file_extension": ".py",
   "mimetype": "text/x-python",
   "name": "python",
   "nbconvert_exporter": "python",
   "pygments_lexer": "ipython3",
   "version": "3.7.3"
  }
 },
 "nbformat": 4,
 "nbformat_minor": 4
}
