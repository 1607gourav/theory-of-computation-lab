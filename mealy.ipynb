{
 "cells": [
  {
   "cell_type": "code",
   "execution_count": 5,
   "metadata": {},
   "outputs": [
    {
     "ename": "SyntaxError",
     "evalue": "unexpected EOF while parsing (<ipython-input-5-3a7770fc4c01>, line 6)",
     "output_type": "error",
     "traceback": [
      "\u001b[0;36m  File \u001b[0;32m\"<ipython-input-5-3a7770fc4c01>\"\u001b[0;36m, line \u001b[0;32m6\u001b[0m\n\u001b[0;31m    dfa[(1,'1')]=(0,'even'\u001b[0m\n\u001b[0m                          ^\u001b[0m\n\u001b[0;31mSyntaxError\u001b[0m\u001b[0;31m:\u001b[0m unexpected EOF while parsing\n"
     ]
    }
   ],
   "source": [
    "# even or odd\n",
    "dfa=dict()\n",
    "dfa[(0,'0')]=(0,'even')\n",
    "dfa[(0,'1')]=(1,'odd')\n",
    "dfa[(1,'0')]=(1,'odd')\n",
    "dfa[(1,'1')]=(0,'even'"
   ]
  },
  {
   "cell_type": "code",
   "execution_count": 2,
   "metadata": {},
   "outputs": [],
   "source": [
    "#2' compliment of a no.\n",
    "dfa=dict()\n",
    "dfa[(0,'0')]=(0,'0')\n",
    "dfa[(0,'1')]=(1,'1')\n",
    "dfa[(1,'0')]=(1,'1')\n",
    "dfa[(1,'1')]=(1,'0')\n",
    "class mealy:\n",
    "  def __init__(self):\n",
    "    self.cs=0\n",
    "  def moves(self,s):\n",
    "    for i in s[::-1]:\n",
    "      self.cs=dfa[self.cs,i][0]\n",
    "      print(dfa[self.cs,i][1],end=\" \")"
   ]
  },
  {
   "cell_type": "code",
   "execution_count": 4,
   "metadata": {},
   "outputs": [
    {
     "name": "stdout",
     "output_type": "stream",
     "text": [
      "0 0 0 1 0 "
     ]
    }
   ],
   "source": [
    "ob=mealy()\n",
    "ob.moves(\"10100\")"
   ]
  },
  {
   "cell_type": "code",
   "execution_count": null,
   "metadata": {},
   "outputs": [],
   "source": []
  },
  {
   "cell_type": "code",
   "execution_count": null,
   "metadata": {},
   "outputs": [],
   "source": [
    "\n"
   ]
  },
  {
   "cell_type": "code",
   "execution_count": null,
   "metadata": {},
   "outputs": [],
   "source": []
  },
  {
   "cell_type": "code",
   "execution_count": null,
   "metadata": {},
   "outputs": [],
   "source": []
  }
 ],
 "metadata": {
  "kernelspec": {
   "display_name": "Python 3",
   "language": "python",
   "name": "python3"
  },
  "language_info": {
   "codemirror_mode": {
    "name": "ipython",
    "version": 3
   },
   "file_extension": ".py",
   "mimetype": "text/x-python",
   "name": "python",
   "nbconvert_exporter": "python",
   "pygments_lexer": "ipython3",
   "version": "3.7.3"
  }
 },
 "nbformat": 4,
 "nbformat_minor": 4
}
